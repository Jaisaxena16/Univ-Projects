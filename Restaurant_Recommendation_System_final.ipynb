{
  "cells": [
    {
      "cell_type": "markdown",
      "source": [
        "**Collaborative Filtering :**\n",
        "\n",
        "\n",
        "Collaborative filtering is used by most recommendation systems to find similar patterns or information of the users, this technique can filter out items that users like on the basis of the ratings or reactions by similar users.\n",
        "\n",
        "An example of collaborative filtering can be to predict the rating of a particular user based on user ratings for other movies and others’ ratings for all movies. This concept is widely used in recommending\n",
        "movies, news, applications, and so many other items.\n"
      ],
      "metadata": {
        "id": "5GaUgHy9u5UD"
      },
      "id": "5GaUgHy9u5UD"
    },
    {
      "cell_type": "code",
      "execution_count": null,
      "id": "481c0681",
      "metadata": {
        "id": "481c0681"
      },
      "outputs": [],
      "source": [
        "import pandas as pd\n",
        "import numpy as np\n",
        "import json\n",
        "import matplotlib.pyplot as plt \n",
        "from math import sqrt\n",
        "from sklearn.metrics import mean_squared_error\n",
        "from sklearn.metrics.pairwise import pairwise_distances"
      ]
    },
    {
      "cell_type": "markdown",
      "id": "6eecacc7",
      "metadata": {
        "id": "6eecacc7"
      },
      "source": [
        "### Loading The Dataset"
      ]
    },
    {
      "cell_type": "code",
      "execution_count": null,
      "id": "78e7b05c",
      "metadata": {
        "id": "78e7b05c"
      },
      "outputs": [],
      "source": [
        "f = open(r\"C:\\Users\\pankaj.balchandani\\Downloads\\yelp_dataset\\yelp_dataset\\yelp_academic_dataset_business.json\",\"rb\")\n",
        "f2 = open(r\"C:\\Users\\pankaj.balchandani\\Downloads\\yelp_dataset\\yelp_dataset\\yelp_academic_dataset_review.json\",\"rb\")\n",
        "l = []\n",
        "l2 = []\n",
        "\n",
        "for line in f:\n",
        "    l.append(json.loads(line))\n",
        "for line in f2:\n",
        "    l2.append(json.loads(line))\n"
      ]
    },
    {
      "cell_type": "markdown",
      "id": "c0c98edd",
      "metadata": {
        "id": "c0c98edd"
      },
      "source": [
        "#### Looking at the Dataset"
      ]
    },
    {
      "cell_type": "code",
      "execution_count": null,
      "id": "7e920531",
      "metadata": {
        "id": "7e920531",
        "outputId": "ac448115-03a3-4c29-a28a-9427cf87446f"
      },
      "outputs": [
        {
          "data": {
            "text/html": [
              "<div>\n",
              "<style scoped>\n",
              "    .dataframe tbody tr th:only-of-type {\n",
              "        vertical-align: middle;\n",
              "    }\n",
              "\n",
              "    .dataframe tbody tr th {\n",
              "        vertical-align: top;\n",
              "    }\n",
              "\n",
              "    .dataframe thead th {\n",
              "        text-align: right;\n",
              "    }\n",
              "</style>\n",
              "<table border=\"1\" class=\"dataframe\">\n",
              "  <thead>\n",
              "    <tr style=\"text-align: right;\">\n",
              "      <th></th>\n",
              "      <th>business_id</th>\n",
              "      <th>name</th>\n",
              "      <th>address</th>\n",
              "      <th>city</th>\n",
              "      <th>state</th>\n",
              "      <th>postal_code</th>\n",
              "      <th>latitude</th>\n",
              "      <th>longitude</th>\n",
              "      <th>stars</th>\n",
              "      <th>review_count</th>\n",
              "      <th>is_open</th>\n",
              "      <th>attributes</th>\n",
              "      <th>categories</th>\n",
              "      <th>hours</th>\n",
              "    </tr>\n",
              "  </thead>\n",
              "  <tbody>\n",
              "    <tr>\n",
              "      <th>0</th>\n",
              "      <td>Pns2l4eNsfO8kk83dixA6A</td>\n",
              "      <td>Abby Rappoport, LAC, CMQ</td>\n",
              "      <td>1616 Chapala St, Ste 2</td>\n",
              "      <td>Santa Barbara</td>\n",
              "      <td>CA</td>\n",
              "      <td>93101</td>\n",
              "      <td>34.426679</td>\n",
              "      <td>-119.711197</td>\n",
              "      <td>5.0</td>\n",
              "      <td>7</td>\n",
              "      <td>0</td>\n",
              "      <td>{'ByAppointmentOnly': 'True'}</td>\n",
              "      <td>Doctors, Traditional Chinese Medicine, Naturop...</td>\n",
              "      <td>None</td>\n",
              "    </tr>\n",
              "    <tr>\n",
              "      <th>1</th>\n",
              "      <td>mpf3x-BjTdTEA3yCZrAYPw</td>\n",
              "      <td>The UPS Store</td>\n",
              "      <td>87 Grasso Plaza Shopping Center</td>\n",
              "      <td>Affton</td>\n",
              "      <td>MO</td>\n",
              "      <td>63123</td>\n",
              "      <td>38.551126</td>\n",
              "      <td>-90.335695</td>\n",
              "      <td>3.0</td>\n",
              "      <td>15</td>\n",
              "      <td>1</td>\n",
              "      <td>{'BusinessAcceptsCreditCards': 'True'}</td>\n",
              "      <td>Shipping Centers, Local Services, Notaries, Ma...</td>\n",
              "      <td>{'Monday': '0:0-0:0', 'Tuesday': '8:0-18:30', ...</td>\n",
              "    </tr>\n",
              "    <tr>\n",
              "      <th>2</th>\n",
              "      <td>tUFrWirKiKi_TAnsVWINQQ</td>\n",
              "      <td>Target</td>\n",
              "      <td>5255 E Broadway Blvd</td>\n",
              "      <td>Tucson</td>\n",
              "      <td>AZ</td>\n",
              "      <td>85711</td>\n",
              "      <td>32.223236</td>\n",
              "      <td>-110.880452</td>\n",
              "      <td>3.5</td>\n",
              "      <td>22</td>\n",
              "      <td>0</td>\n",
              "      <td>{'BikeParking': 'True', 'BusinessAcceptsCredit...</td>\n",
              "      <td>Department Stores, Shopping, Fashion, Home &amp; G...</td>\n",
              "      <td>{'Monday': '8:0-22:0', 'Tuesday': '8:0-22:0', ...</td>\n",
              "    </tr>\n",
              "    <tr>\n",
              "      <th>3</th>\n",
              "      <td>MTSW4McQd7CbVtyjqoe9mw</td>\n",
              "      <td>St Honore Pastries</td>\n",
              "      <td>935 Race St</td>\n",
              "      <td>Philadelphia</td>\n",
              "      <td>PA</td>\n",
              "      <td>19107</td>\n",
              "      <td>39.955505</td>\n",
              "      <td>-75.155564</td>\n",
              "      <td>4.0</td>\n",
              "      <td>80</td>\n",
              "      <td>1</td>\n",
              "      <td>{'RestaurantsDelivery': 'False', 'OutdoorSeati...</td>\n",
              "      <td>Restaurants, Food, Bubble Tea, Coffee &amp; Tea, B...</td>\n",
              "      <td>{'Monday': '7:0-20:0', 'Tuesday': '7:0-20:0', ...</td>\n",
              "    </tr>\n",
              "    <tr>\n",
              "      <th>4</th>\n",
              "      <td>mWMc6_wTdE0EUBKIGXDVfA</td>\n",
              "      <td>Perkiomen Valley Brewery</td>\n",
              "      <td>101 Walnut St</td>\n",
              "      <td>Green Lane</td>\n",
              "      <td>PA</td>\n",
              "      <td>18054</td>\n",
              "      <td>40.338183</td>\n",
              "      <td>-75.471659</td>\n",
              "      <td>4.5</td>\n",
              "      <td>13</td>\n",
              "      <td>1</td>\n",
              "      <td>{'BusinessAcceptsCreditCards': 'True', 'Wheelc...</td>\n",
              "      <td>Brewpubs, Breweries, Food</td>\n",
              "      <td>{'Wednesday': '14:0-22:0', 'Thursday': '16:0-2...</td>\n",
              "    </tr>\n",
              "  </tbody>\n",
              "</table>\n",
              "</div>"
            ],
            "text/plain": [
              "              business_id                      name  \\\n",
              "0  Pns2l4eNsfO8kk83dixA6A  Abby Rappoport, LAC, CMQ   \n",
              "1  mpf3x-BjTdTEA3yCZrAYPw             The UPS Store   \n",
              "2  tUFrWirKiKi_TAnsVWINQQ                    Target   \n",
              "3  MTSW4McQd7CbVtyjqoe9mw        St Honore Pastries   \n",
              "4  mWMc6_wTdE0EUBKIGXDVfA  Perkiomen Valley Brewery   \n",
              "\n",
              "                           address           city state postal_code  \\\n",
              "0           1616 Chapala St, Ste 2  Santa Barbara    CA       93101   \n",
              "1  87 Grasso Plaza Shopping Center         Affton    MO       63123   \n",
              "2             5255 E Broadway Blvd         Tucson    AZ       85711   \n",
              "3                      935 Race St   Philadelphia    PA       19107   \n",
              "4                    101 Walnut St     Green Lane    PA       18054   \n",
              "\n",
              "    latitude   longitude  stars  review_count  is_open  \\\n",
              "0  34.426679 -119.711197    5.0             7        0   \n",
              "1  38.551126  -90.335695    3.0            15        1   \n",
              "2  32.223236 -110.880452    3.5            22        0   \n",
              "3  39.955505  -75.155564    4.0            80        1   \n",
              "4  40.338183  -75.471659    4.5            13        1   \n",
              "\n",
              "                                          attributes  \\\n",
              "0                      {'ByAppointmentOnly': 'True'}   \n",
              "1             {'BusinessAcceptsCreditCards': 'True'}   \n",
              "2  {'BikeParking': 'True', 'BusinessAcceptsCredit...   \n",
              "3  {'RestaurantsDelivery': 'False', 'OutdoorSeati...   \n",
              "4  {'BusinessAcceptsCreditCards': 'True', 'Wheelc...   \n",
              "\n",
              "                                          categories  \\\n",
              "0  Doctors, Traditional Chinese Medicine, Naturop...   \n",
              "1  Shipping Centers, Local Services, Notaries, Ma...   \n",
              "2  Department Stores, Shopping, Fashion, Home & G...   \n",
              "3  Restaurants, Food, Bubble Tea, Coffee & Tea, B...   \n",
              "4                          Brewpubs, Breweries, Food   \n",
              "\n",
              "                                               hours  \n",
              "0                                               None  \n",
              "1  {'Monday': '0:0-0:0', 'Tuesday': '8:0-18:30', ...  \n",
              "2  {'Monday': '8:0-22:0', 'Tuesday': '8:0-22:0', ...  \n",
              "3  {'Monday': '7:0-20:0', 'Tuesday': '7:0-20:0', ...  \n",
              "4  {'Wednesday': '14:0-22:0', 'Thursday': '16:0-2...  "
            ]
          },
          "execution_count": 5,
          "metadata": {},
          "output_type": "execute_result"
        }
      ],
      "source": [
        "df1 = pd.DataFrame(l)\n",
        "df1.head(5)"
      ]
    },
    {
      "cell_type": "code",
      "execution_count": null,
      "id": "449b1a15",
      "metadata": {
        "id": "449b1a15",
        "outputId": "5871a601-f576-4d27-d937-229169eb11c8"
      },
      "outputs": [
        {
          "data": {
            "text/html": [
              "<div>\n",
              "<style scoped>\n",
              "    .dataframe tbody tr th:only-of-type {\n",
              "        vertical-align: middle;\n",
              "    }\n",
              "\n",
              "    .dataframe tbody tr th {\n",
              "        vertical-align: top;\n",
              "    }\n",
              "\n",
              "    .dataframe thead th {\n",
              "        text-align: right;\n",
              "    }\n",
              "</style>\n",
              "<table border=\"1\" class=\"dataframe\">\n",
              "  <thead>\n",
              "    <tr style=\"text-align: right;\">\n",
              "      <th></th>\n",
              "      <th>review_id</th>\n",
              "      <th>user_id</th>\n",
              "      <th>business_id</th>\n",
              "      <th>stars</th>\n",
              "      <th>useful</th>\n",
              "      <th>funny</th>\n",
              "      <th>cool</th>\n",
              "      <th>text</th>\n",
              "      <th>date</th>\n",
              "    </tr>\n",
              "  </thead>\n",
              "  <tbody>\n",
              "    <tr>\n",
              "      <th>0</th>\n",
              "      <td>KU_O5udG6zpxOg-VcAEodg</td>\n",
              "      <td>mh_-eMZ6K5RLWhZyISBhwA</td>\n",
              "      <td>XQfwVwDr-v0ZS3_CbbE5Xw</td>\n",
              "      <td>3.0</td>\n",
              "      <td>0</td>\n",
              "      <td>0</td>\n",
              "      <td>0</td>\n",
              "      <td>If you decide to eat here, just be aware it is...</td>\n",
              "      <td>2018-07-07 22:09:11</td>\n",
              "    </tr>\n",
              "    <tr>\n",
              "      <th>1</th>\n",
              "      <td>BiTunyQ73aT9WBnpR9DZGw</td>\n",
              "      <td>OyoGAe7OKpv6SyGZT5g77Q</td>\n",
              "      <td>7ATYjTIgM3jUlt4UM3IypQ</td>\n",
              "      <td>5.0</td>\n",
              "      <td>1</td>\n",
              "      <td>0</td>\n",
              "      <td>1</td>\n",
              "      <td>I've taken a lot of spin classes over the year...</td>\n",
              "      <td>2012-01-03 15:28:18</td>\n",
              "    </tr>\n",
              "    <tr>\n",
              "      <th>2</th>\n",
              "      <td>saUsX_uimxRlCVr67Z4Jig</td>\n",
              "      <td>8g_iMtfSiwikVnbP2etR0A</td>\n",
              "      <td>YjUWPpI6HXG530lwP-fb2A</td>\n",
              "      <td>3.0</td>\n",
              "      <td>0</td>\n",
              "      <td>0</td>\n",
              "      <td>0</td>\n",
              "      <td>Family diner. Had the buffet. Eclectic assortm...</td>\n",
              "      <td>2014-02-05 20:30:30</td>\n",
              "    </tr>\n",
              "    <tr>\n",
              "      <th>3</th>\n",
              "      <td>AqPFMleE6RsU23_auESxiA</td>\n",
              "      <td>_7bHUi9Uuf5__HHc_Q8guQ</td>\n",
              "      <td>kxX2SOes4o-D3ZQBkiMRfA</td>\n",
              "      <td>5.0</td>\n",
              "      <td>1</td>\n",
              "      <td>0</td>\n",
              "      <td>1</td>\n",
              "      <td>Wow!  Yummy, different,  delicious.   Our favo...</td>\n",
              "      <td>2015-01-04 00:01:03</td>\n",
              "    </tr>\n",
              "    <tr>\n",
              "      <th>4</th>\n",
              "      <td>Sx8TMOWLNuJBWer-0pcmoA</td>\n",
              "      <td>bcjbaE6dDog4jkNY91ncLQ</td>\n",
              "      <td>e4Vwtrqf-wpJfwesgvdgxQ</td>\n",
              "      <td>4.0</td>\n",
              "      <td>1</td>\n",
              "      <td>0</td>\n",
              "      <td>1</td>\n",
              "      <td>Cute interior and owner (?) gave us tour of up...</td>\n",
              "      <td>2017-01-14 20:54:15</td>\n",
              "    </tr>\n",
              "  </tbody>\n",
              "</table>\n",
              "</div>"
            ],
            "text/plain": [
              "                review_id                 user_id             business_id  \\\n",
              "0  KU_O5udG6zpxOg-VcAEodg  mh_-eMZ6K5RLWhZyISBhwA  XQfwVwDr-v0ZS3_CbbE5Xw   \n",
              "1  BiTunyQ73aT9WBnpR9DZGw  OyoGAe7OKpv6SyGZT5g77Q  7ATYjTIgM3jUlt4UM3IypQ   \n",
              "2  saUsX_uimxRlCVr67Z4Jig  8g_iMtfSiwikVnbP2etR0A  YjUWPpI6HXG530lwP-fb2A   \n",
              "3  AqPFMleE6RsU23_auESxiA  _7bHUi9Uuf5__HHc_Q8guQ  kxX2SOes4o-D3ZQBkiMRfA   \n",
              "4  Sx8TMOWLNuJBWer-0pcmoA  bcjbaE6dDog4jkNY91ncLQ  e4Vwtrqf-wpJfwesgvdgxQ   \n",
              "\n",
              "   stars  useful  funny  cool  \\\n",
              "0    3.0       0      0     0   \n",
              "1    5.0       1      0     1   \n",
              "2    3.0       0      0     0   \n",
              "3    5.0       1      0     1   \n",
              "4    4.0       1      0     1   \n",
              "\n",
              "                                                text                 date  \n",
              "0  If you decide to eat here, just be aware it is...  2018-07-07 22:09:11  \n",
              "1  I've taken a lot of spin classes over the year...  2012-01-03 15:28:18  \n",
              "2  Family diner. Had the buffet. Eclectic assortm...  2014-02-05 20:30:30  \n",
              "3  Wow!  Yummy, different,  delicious.   Our favo...  2015-01-04 00:01:03  \n",
              "4  Cute interior and owner (?) gave us tour of up...  2017-01-14 20:54:15  "
            ]
          },
          "execution_count": 9,
          "metadata": {},
          "output_type": "execute_result"
        }
      ],
      "source": [
        "df3 = pd.DataFrame(l2)\n",
        "df3.head(5)"
      ]
    },
    {
      "cell_type": "markdown",
      "id": "001d6529",
      "metadata": {
        "id": "001d6529"
      },
      "source": [
        "## Grouping users to see relations"
      ]
    },
    {
      "cell_type": "code",
      "execution_count": null,
      "id": "9de5d487",
      "metadata": {
        "id": "9de5d487"
      },
      "outputs": [],
      "source": [
        "business_ranks = df3.groupby(['user_id']).agg({'stars':np.mean}).sort_values(['stars'],ascending = False)"
      ]
    },
    {
      "cell_type": "code",
      "execution_count": null,
      "id": "2fb514bb",
      "metadata": {
        "id": "2fb514bb",
        "outputId": "08579ca1-b178-4305-ac80-95f2da205b95"
      },
      "outputs": [
        {
          "data": {
            "text/plain": [
              "stars   \n",
              "5.000000    754035\n",
              "1.000000    347434\n",
              "4.000000    179994\n",
              "3.000000    135246\n",
              "2.000000    100312\n",
              "             ...  \n",
              "3.646643         1\n",
              "3.646465         1\n",
              "3.646018         1\n",
              "4.121387         1\n",
              "4.985294         1\n",
              "Length: 7540, dtype: int64"
            ]
          },
          "execution_count": 30,
          "metadata": {},
          "output_type": "execute_result"
        }
      ],
      "source": [
        "business_ranks.value_counts()"
      ]
    },
    {
      "cell_type": "code",
      "execution_count": null,
      "id": "fb1ef6c0",
      "metadata": {
        "id": "fb1ef6c0",
        "outputId": "b3fbb0cb-ce58-434f-938b-cc7dc5a28714"
      },
      "outputs": [
        {
          "data": {
            "image/png": "[encoded data removed]",
            "text/plain": [
              "<Figure size 432x288 with 1 Axes>"
            ]
          },
          "metadata": {
            "needs_background": "light"
          },
          "output_type": "display_data"
        }
      ],
      "source": [
        "#PLotting our findings\n",
        "plt.hist(business_ranks,rwidth = 0.6, color = 'maroon')\n",
        "plt.xlabel('Ratings by Users')\n",
        "plt.ylabel('Number of Unique Users')\n",
        "plt.show()"
      ]
    },
    {
      "cell_type": "markdown",
      "id": "61388bc2",
      "metadata": {
        "id": "61388bc2"
      },
      "source": [
        "## Grouping Businesses to see relations"
      ]
    },
    {
      "cell_type": "code",
      "execution_count": null,
      "id": "7a4267e8",
      "metadata": {
        "id": "7a4267e8"
      },
      "outputs": [],
      "source": [
        "business_ranks1 = df3.groupby(['business_id']).agg({'stars':np.mean}).sort_values(['stars'],ascending = False)"
      ]
    },
    {
      "cell_type": "code",
      "execution_count": null,
      "id": "ea8c1cc0",
      "metadata": {
        "id": "ea8c1cc0",
        "outputId": "7edeb423-2287-4518-d674-ab35d70acd1c"
      },
      "outputs": [
        {
          "data": {
            "text/plain": [
              "stars   \n",
              "5.000000    8995\n",
              "4.000000    3885\n",
              "3.000000    2794\n",
              "4.200000    2039\n",
              "4.333333    1892\n",
              "            ... \n",
              "4.251908       1\n",
              "4.251969       1\n",
              "3.659259       1\n",
              "3.659218       1\n",
              "3.783550       1\n",
              "Length: 17055, dtype: int64"
            ]
          },
          "execution_count": 34,
          "metadata": {},
          "output_type": "execute_result"
        }
      ],
      "source": [
        "business_ranks1.value_counts()"
      ]
    },
    {
      "cell_type": "code",
      "execution_count": null,
      "id": "7e9339fe",
      "metadata": {
        "id": "7e9339fe",
        "outputId": "6e61b500-eb9f-4cc9-ec5b-4de2e8a08191"
      },
      "outputs": [
        {
          "data": {
            "image/png": "[encoded data removed]",
            "text/plain": [
              "<Figure size 432x288 with 1 Axes>"
            ]
          },
          "metadata": {
            "needs_background": "light"
          },
          "output_type": "display_data"
        }
      ],
      "source": [
        "# Plotting our findings\n",
        "plt.hist(business_ranks1,rwidth = 0.6, color = 'blue')\n",
        "plt.xlabel('Ratings by Users')\n",
        "plt.ylabel('Number of Unique Businesses')\n",
        "plt.show()"
      ]
    },
    {
      "cell_type": "code",
      "execution_count": null,
      "id": "227e3cdb",
      "metadata": {
        "id": "227e3cdb"
      },
      "outputs": [],
      "source": [
        "business_ranks2 = df3.groupby(['business_id']).agg({'user_id':'count','stars':np.mean}).sort_values(['stars'],ascending = False)"
      ]
    },
    {
      "cell_type": "code",
      "execution_count": null,
      "id": "25e2c23d",
      "metadata": {
        "id": "25e2c23d",
        "outputId": "d6888d7a-7c01-42ca-e117-fd55ca7f5034"
      },
      "outputs": [
        {
          "data": {
            "text/html": [
              "<div>\n",
              "<style scoped>\n",
              "    .dataframe tbody tr th:only-of-type {\n",
              "        vertical-align: middle;\n",
              "    }\n",
              "\n",
              "    .dataframe tbody tr th {\n",
              "        vertical-align: top;\n",
              "    }\n",
              "\n",
              "    .dataframe thead th {\n",
              "        text-align: right;\n",
              "    }\n",
              "</style>\n",
              "<table border=\"1\" class=\"dataframe\">\n",
              "  <thead>\n",
              "    <tr style=\"text-align: right;\">\n",
              "      <th></th>\n",
              "      <th>user_id</th>\n",
              "      <th>stars</th>\n",
              "    </tr>\n",
              "    <tr>\n",
              "      <th>business_id</th>\n",
              "      <th></th>\n",
              "      <th></th>\n",
              "    </tr>\n",
              "  </thead>\n",
              "  <tbody>\n",
              "    <tr>\n",
              "      <th>32u7cquDfOX8Cbii25g0mg</th>\n",
              "      <td>8</td>\n",
              "      <td>5.0</td>\n",
              "    </tr>\n",
              "    <tr>\n",
              "      <th>FRuS-Lhn5GZTYg-J1hn9kA</th>\n",
              "      <td>7</td>\n",
              "      <td>5.0</td>\n",
              "    </tr>\n",
              "    <tr>\n",
              "      <th>3PtXF_Kzq6v_WMqlJ1OaBQ</th>\n",
              "      <td>14</td>\n",
              "      <td>5.0</td>\n",
              "    </tr>\n",
              "    <tr>\n",
              "      <th>ZcR-DlAbLmM5WQkNTOi0nA</th>\n",
              "      <td>5</td>\n",
              "      <td>5.0</td>\n",
              "    </tr>\n",
              "    <tr>\n",
              "      <th>lLIb3WzjiMeARikxS3Iosg</th>\n",
              "      <td>7</td>\n",
              "      <td>5.0</td>\n",
              "    </tr>\n",
              "    <tr>\n",
              "      <th>...</th>\n",
              "      <td>...</td>\n",
              "      <td>...</td>\n",
              "    </tr>\n",
              "    <tr>\n",
              "      <th>mzsSZP8CLJKrxV9a-e-FMg</th>\n",
              "      <td>7</td>\n",
              "      <td>1.0</td>\n",
              "    </tr>\n",
              "    <tr>\n",
              "      <th>qe0i3Q1NbbHrJsrQCJdP6g</th>\n",
              "      <td>7</td>\n",
              "      <td>1.0</td>\n",
              "    </tr>\n",
              "    <tr>\n",
              "      <th>mzHp77kQ9wLJDTJWH7gl_w</th>\n",
              "      <td>10</td>\n",
              "      <td>1.0</td>\n",
              "    </tr>\n",
              "    <tr>\n",
              "      <th>TTXqzT7ij7_9bptvZpqLpQ</th>\n",
              "      <td>8</td>\n",
              "      <td>1.0</td>\n",
              "    </tr>\n",
              "    <tr>\n",
              "      <th>CDJgKAeQyr5CoMZkqpcPbg</th>\n",
              "      <td>5</td>\n",
              "      <td>1.0</td>\n",
              "    </tr>\n",
              "  </tbody>\n",
              "</table>\n",
              "<p>150346 rows × 2 columns</p>\n",
              "</div>"
            ],
            "text/plain": [
              "                        user_id  stars\n",
              "business_id                           \n",
              "32u7cquDfOX8Cbii25g0mg        8    5.0\n",
              "FRuS-Lhn5GZTYg-J1hn9kA        7    5.0\n",
              "3PtXF_Kzq6v_WMqlJ1OaBQ       14    5.0\n",
              "ZcR-DlAbLmM5WQkNTOi0nA        5    5.0\n",
              "lLIb3WzjiMeARikxS3Iosg        7    5.0\n",
              "...                         ...    ...\n",
              "mzsSZP8CLJKrxV9a-e-FMg        7    1.0\n",
              "qe0i3Q1NbbHrJsrQCJdP6g        7    1.0\n",
              "mzHp77kQ9wLJDTJWH7gl_w       10    1.0\n",
              "TTXqzT7ij7_9bptvZpqLpQ        8    1.0\n",
              "CDJgKAeQyr5CoMZkqpcPbg        5    1.0\n",
              "\n",
              "[150346 rows x 2 columns]"
            ]
          },
          "execution_count": 42,
          "metadata": {},
          "output_type": "execute_result"
        }
      ],
      "source": [
        "business_ranks2"
      ]
    },
    {
      "cell_type": "code",
      "execution_count": null,
      "id": "9fb6ed08",
      "metadata": {
        "id": "9fb6ed08",
        "outputId": "8366d2ac-8143-4535-fcc0-f868d2ae3040"
      },
      "outputs": [
        {
          "data": {
            "image/png": "[encoded data removed]",
            "text/plain": [
              "<Figure size 432x288 with 1 Axes>"
            ]
          },
          "metadata": {
            "needs_background": "light"
          },
          "output_type": "display_data"
        }
      ],
      "source": [
        "# Plotting Our Findings\n",
        "plt.scatter(business_ranks2['stars'],business_ranks2['user_id'],c = 'green' ,s = 10,marker = 'o',edgecolor =\"yellow\",label = 'Unique Businesses')\n",
        "plt.legend()\n",
        "plt.xlabel('Average Ratings by Users')\n",
        "plt.ylabel('Unique users')\n",
        "plt.show()"
      ]
    },
    {
      "cell_type": "code",
      "execution_count": null,
      "id": "843112d1",
      "metadata": {
        "id": "843112d1",
        "outputId": "f6371ce5-378b-4bbf-e653-b0c45015fd94"
      },
      "outputs": [
        {
          "data": {
            "text/plain": [
              "(1987929, 150346)"
            ]
          },
          "execution_count": 67,
          "metadata": {},
          "output_type": "execute_result"
        }
      ],
      "source": [
        "len(df3['user_id'].unique()),len(df3['business_id'].unique())"
      ]
    },
    {
      "cell_type": "markdown",
      "id": "b8c81830",
      "metadata": {
        "id": "b8c81830"
      },
      "source": [
        "### Taking into consideration only for top 1000 users and top 1000 businesses"
      ]
    },
    {
      "cell_type": "code",
      "execution_count": null,
      "id": "2373de3b",
      "metadata": {
        "id": "2373de3b"
      },
      "outputs": [],
      "source": [
        "df = pd.DataFrame()\n",
        "df['user_id'] = df3['user_id'].value_counts()[:1000].index\n",
        "df['business_id'] = df3['business_id'].value_counts()[:1000].index"
      ]
    },
    {
      "cell_type": "code",
      "execution_count": null,
      "id": "448272b1",
      "metadata": {
        "id": "448272b1"
      },
      "outputs": [],
      "source": [
        "##merging datasets for all those 1000 users from both datasets\n",
        "df3_new = df3.merge(df[['user_id']],on = ['user_id'] ,how = 'inner')"
      ]
    },
    {
      "cell_type": "code",
      "execution_count": null,
      "id": "7c367f0e",
      "metadata": {
        "id": "7c367f0e"
      },
      "outputs": [],
      "source": [
        "df3_new = df3_new[df3_new.business_id.isin(df['business_id'])]"
      ]
    },
    {
      "cell_type": "code",
      "execution_count": null,
      "id": "0619de4c",
      "metadata": {
        "id": "0619de4c"
      },
      "outputs": [],
      "source": [
        "stars_df = pd.DataFrame(np.zeros((1000,1000)),columns = df['business_id'], index=df['user_id'])"
      ]
    },
    {
      "cell_type": "code",
      "execution_count": null,
      "id": "2298087a",
      "metadata": {
        "id": "2298087a"
      },
      "outputs": [],
      "source": [
        "for i in df3_new.index:\n",
        "    stars_df.loc[df3_new['user_id'][i] , df3_new['business_id'][i] ]  =  df3_new['stars'][i] "
      ]
    },
    {
      "cell_type": "code",
      "execution_count": null,
      "id": "017cdeb6",
      "metadata": {
        "id": "017cdeb6",
        "outputId": "ae43d0bf-289d-4a8c-a57a-bb13a355e7a9"
      },
      "outputs": [
        {
          "data": {
            "text/html": [
              "<div>\n",
              "<style scoped>\n",
              "    .dataframe tbody tr th:only-of-type {\n",
              "        vertical-align: middle;\n",
              "    }\n",
              "\n",
              "    .dataframe tbody tr th {\n",
              "        vertical-align: top;\n",
              "    }\n",
              "\n",
              "    .dataframe thead th {\n",
              "        text-align: right;\n",
              "    }\n",
              "</style>\n",
              "<table border=\"1\" class=\"dataframe\">\n",
              "  <thead>\n",
              "    <tr style=\"text-align: right;\">\n",
              "      <th>business_id</th>\n",
              "      <th>_ab50qdWOk0DdB6XOrBitw</th>\n",
              "      <th>ac1AeYqs8Z4_e2X5M3if2A</th>\n",
              "      <th>GXFMD0Z4jEVZBCsbPf4CTQ</th>\n",
              "      <th>ytynqOUb3hjKeJfRj5Tshw</th>\n",
              "      <th>oBNrLz4EDhiscSlbOl8uAw</th>\n",
              "      <th>iSRTaT9WngzB8JJ2YKJUig</th>\n",
              "      <th>VQcCL9PiNL_wkGf-uF3fjg</th>\n",
              "      <th>_C7QiQQc47AOEv4PE3Kong</th>\n",
              "      <th>GBTPC53ZrG1ZBY3DT8Mbcw</th>\n",
              "      <th>6a4gLLFSgr-Q6CZXDLzBGQ</th>\n",
              "      <th>...</th>\n",
              "      <th>zSqTndm5Alq9dW1PyzbdTA</th>\n",
              "      <th>sXaiyPC1fT6ESl-6t7eSXg</th>\n",
              "      <th>8ObCdQQ3mHwDsSsk75Z2lA</th>\n",
              "      <th>Hr6aM0s-woIJaW6DJSbvNQ</th>\n",
              "      <th>lrowppSl2sk3hU4tSUaS6Q</th>\n",
              "      <th>IG2KelKEHCwybPl98frdgQ</th>\n",
              "      <th>oaboaRBUgGjbo2kfUIKDLQ</th>\n",
              "      <th>XCY5mYQv-6Y-uOZEOgOhiQ</th>\n",
              "      <th>05UGAUzE88mcPxQ7WnCxQA</th>\n",
              "      <th>tc6jKQiRjFO2M7BylwHVrg</th>\n",
              "    </tr>\n",
              "    <tr>\n",
              "      <th>user_id</th>\n",
              "      <th></th>\n",
              "      <th></th>\n",
              "      <th></th>\n",
              "      <th></th>\n",
              "      <th></th>\n",
              "      <th></th>\n",
              "      <th></th>\n",
              "      <th></th>\n",
              "      <th></th>\n",
              "      <th></th>\n",
              "      <th></th>\n",
              "      <th></th>\n",
              "      <th></th>\n",
              "      <th></th>\n",
              "      <th></th>\n",
              "      <th></th>\n",
              "      <th></th>\n",
              "      <th></th>\n",
              "      <th></th>\n",
              "      <th></th>\n",
              "      <th></th>\n",
              "    </tr>\n",
              "  </thead>\n",
              "  <tbody>\n",
              "    <tr>\n",
              "      <th>_BcWyKQL16ndpBdggh2kNA</th>\n",
              "      <td>0.0</td>\n",
              "      <td>0.0</td>\n",
              "      <td>0.0</td>\n",
              "      <td>5.0</td>\n",
              "      <td>0.0</td>\n",
              "      <td>0.0</td>\n",
              "      <td>0.0</td>\n",
              "      <td>5.0</td>\n",
              "      <td>0.0</td>\n",
              "      <td>0.0</td>\n",
              "      <td>...</td>\n",
              "      <td>0.0</td>\n",
              "      <td>0.0</td>\n",
              "      <td>0.0</td>\n",
              "      <td>0.0</td>\n",
              "      <td>0.0</td>\n",
              "      <td>0.0</td>\n",
              "      <td>0.0</td>\n",
              "      <td>0.0</td>\n",
              "      <td>0.0</td>\n",
              "      <td>0.0</td>\n",
              "    </tr>\n",
              "    <tr>\n",
              "      <th>Xw7ZjaGfr0WNVt6s_5KZfA</th>\n",
              "      <td>0.0</td>\n",
              "      <td>0.0</td>\n",
              "      <td>0.0</td>\n",
              "      <td>0.0</td>\n",
              "      <td>0.0</td>\n",
              "      <td>0.0</td>\n",
              "      <td>4.0</td>\n",
              "      <td>5.0</td>\n",
              "      <td>0.0</td>\n",
              "      <td>4.0</td>\n",
              "      <td>...</td>\n",
              "      <td>0.0</td>\n",
              "      <td>0.0</td>\n",
              "      <td>0.0</td>\n",
              "      <td>0.0</td>\n",
              "      <td>0.0</td>\n",
              "      <td>0.0</td>\n",
              "      <td>0.0</td>\n",
              "      <td>0.0</td>\n",
              "      <td>0.0</td>\n",
              "      <td>0.0</td>\n",
              "    </tr>\n",
              "    <tr>\n",
              "      <th>0Igx-a1wAstiBDerGxXk2A</th>\n",
              "      <td>0.0</td>\n",
              "      <td>0.0</td>\n",
              "      <td>0.0</td>\n",
              "      <td>0.0</td>\n",
              "      <td>0.0</td>\n",
              "      <td>0.0</td>\n",
              "      <td>0.0</td>\n",
              "      <td>4.0</td>\n",
              "      <td>4.0</td>\n",
              "      <td>0.0</td>\n",
              "      <td>...</td>\n",
              "      <td>4.0</td>\n",
              "      <td>0.0</td>\n",
              "      <td>0.0</td>\n",
              "      <td>0.0</td>\n",
              "      <td>0.0</td>\n",
              "      <td>0.0</td>\n",
              "      <td>0.0</td>\n",
              "      <td>0.0</td>\n",
              "      <td>0.0</td>\n",
              "      <td>0.0</td>\n",
              "    </tr>\n",
              "    <tr>\n",
              "      <th>-G7Zkl1wIWBBmD0KRy_sCw</th>\n",
              "      <td>0.0</td>\n",
              "      <td>0.0</td>\n",
              "      <td>0.0</td>\n",
              "      <td>0.0</td>\n",
              "      <td>0.0</td>\n",
              "      <td>0.0</td>\n",
              "      <td>0.0</td>\n",
              "      <td>0.0</td>\n",
              "      <td>0.0</td>\n",
              "      <td>0.0</td>\n",
              "      <td>...</td>\n",
              "      <td>0.0</td>\n",
              "      <td>0.0</td>\n",
              "      <td>0.0</td>\n",
              "      <td>0.0</td>\n",
              "      <td>0.0</td>\n",
              "      <td>0.0</td>\n",
              "      <td>0.0</td>\n",
              "      <td>0.0</td>\n",
              "      <td>0.0</td>\n",
              "      <td>0.0</td>\n",
              "    </tr>\n",
              "    <tr>\n",
              "      <th>ET8n-r7glWYqZhuR6GcdNw</th>\n",
              "      <td>0.0</td>\n",
              "      <td>0.0</td>\n",
              "      <td>0.0</td>\n",
              "      <td>0.0</td>\n",
              "      <td>0.0</td>\n",
              "      <td>0.0</td>\n",
              "      <td>0.0</td>\n",
              "      <td>0.0</td>\n",
              "      <td>0.0</td>\n",
              "      <td>0.0</td>\n",
              "      <td>...</td>\n",
              "      <td>0.0</td>\n",
              "      <td>0.0</td>\n",
              "      <td>0.0</td>\n",
              "      <td>0.0</td>\n",
              "      <td>0.0</td>\n",
              "      <td>0.0</td>\n",
              "      <td>0.0</td>\n",
              "      <td>0.0</td>\n",
              "      <td>0.0</td>\n",
              "      <td>0.0</td>\n",
              "    </tr>\n",
              "    <tr>\n",
              "      <th>...</th>\n",
              "      <td>...</td>\n",
              "      <td>...</td>\n",
              "      <td>...</td>\n",
              "      <td>...</td>\n",
              "      <td>...</td>\n",
              "      <td>...</td>\n",
              "      <td>...</td>\n",
              "      <td>...</td>\n",
              "      <td>...</td>\n",
              "      <td>...</td>\n",
              "      <td>...</td>\n",
              "      <td>...</td>\n",
              "      <td>...</td>\n",
              "      <td>...</td>\n",
              "      <td>...</td>\n",
              "      <td>...</td>\n",
              "      <td>...</td>\n",
              "      <td>...</td>\n",
              "      <td>...</td>\n",
              "      <td>...</td>\n",
              "      <td>...</td>\n",
              "    </tr>\n",
              "    <tr>\n",
              "      <th>Glq_5Fn45I4HkNqRhfuDkw</th>\n",
              "      <td>0.0</td>\n",
              "      <td>0.0</td>\n",
              "      <td>0.0</td>\n",
              "      <td>0.0</td>\n",
              "      <td>0.0</td>\n",
              "      <td>0.0</td>\n",
              "      <td>0.0</td>\n",
              "      <td>0.0</td>\n",
              "      <td>0.0</td>\n",
              "      <td>5.0</td>\n",
              "      <td>...</td>\n",
              "      <td>0.0</td>\n",
              "      <td>5.0</td>\n",
              "      <td>0.0</td>\n",
              "      <td>0.0</td>\n",
              "      <td>0.0</td>\n",
              "      <td>0.0</td>\n",
              "      <td>0.0</td>\n",
              "      <td>0.0</td>\n",
              "      <td>0.0</td>\n",
              "      <td>0.0</td>\n",
              "    </tr>\n",
              "    <tr>\n",
              "      <th>4aCF363Weu2RNAtl3mJ2eg</th>\n",
              "      <td>0.0</td>\n",
              "      <td>0.0</td>\n",
              "      <td>0.0</td>\n",
              "      <td>0.0</td>\n",
              "      <td>0.0</td>\n",
              "      <td>0.0</td>\n",
              "      <td>0.0</td>\n",
              "      <td>5.0</td>\n",
              "      <td>3.0</td>\n",
              "      <td>0.0</td>\n",
              "      <td>...</td>\n",
              "      <td>0.0</td>\n",
              "      <td>0.0</td>\n",
              "      <td>0.0</td>\n",
              "      <td>0.0</td>\n",
              "      <td>0.0</td>\n",
              "      <td>0.0</td>\n",
              "      <td>0.0</td>\n",
              "      <td>0.0</td>\n",
              "      <td>0.0</td>\n",
              "      <td>0.0</td>\n",
              "    </tr>\n",
              "    <tr>\n",
              "      <th>x7UU1bdc2INFrZFwp6yOPw</th>\n",
              "      <td>0.0</td>\n",
              "      <td>0.0</td>\n",
              "      <td>0.0</td>\n",
              "      <td>0.0</td>\n",
              "      <td>0.0</td>\n",
              "      <td>0.0</td>\n",
              "      <td>0.0</td>\n",
              "      <td>0.0</td>\n",
              "      <td>0.0</td>\n",
              "      <td>0.0</td>\n",
              "      <td>...</td>\n",
              "      <td>0.0</td>\n",
              "      <td>0.0</td>\n",
              "      <td>0.0</td>\n",
              "      <td>0.0</td>\n",
              "      <td>0.0</td>\n",
              "      <td>0.0</td>\n",
              "      <td>0.0</td>\n",
              "      <td>0.0</td>\n",
              "      <td>0.0</td>\n",
              "      <td>0.0</td>\n",
              "    </tr>\n",
              "    <tr>\n",
              "      <th>V9n2Qyr-dvNg00BwMWqquQ</th>\n",
              "      <td>0.0</td>\n",
              "      <td>0.0</td>\n",
              "      <td>0.0</td>\n",
              "      <td>5.0</td>\n",
              "      <td>0.0</td>\n",
              "      <td>0.0</td>\n",
              "      <td>0.0</td>\n",
              "      <td>0.0</td>\n",
              "      <td>0.0</td>\n",
              "      <td>0.0</td>\n",
              "      <td>...</td>\n",
              "      <td>0.0</td>\n",
              "      <td>0.0</td>\n",
              "      <td>0.0</td>\n",
              "      <td>0.0</td>\n",
              "      <td>0.0</td>\n",
              "      <td>0.0</td>\n",
              "      <td>0.0</td>\n",
              "      <td>0.0</td>\n",
              "      <td>0.0</td>\n",
              "      <td>0.0</td>\n",
              "    </tr>\n",
              "    <tr>\n",
              "      <th>cZohBzgCY3B4Fbd25GHHLQ</th>\n",
              "      <td>0.0</td>\n",
              "      <td>0.0</td>\n",
              "      <td>5.0</td>\n",
              "      <td>0.0</td>\n",
              "      <td>0.0</td>\n",
              "      <td>0.0</td>\n",
              "      <td>0.0</td>\n",
              "      <td>0.0</td>\n",
              "      <td>0.0</td>\n",
              "      <td>0.0</td>\n",
              "      <td>...</td>\n",
              "      <td>0.0</td>\n",
              "      <td>0.0</td>\n",
              "      <td>0.0</td>\n",
              "      <td>0.0</td>\n",
              "      <td>0.0</td>\n",
              "      <td>0.0</td>\n",
              "      <td>0.0</td>\n",
              "      <td>0.0</td>\n",
              "      <td>0.0</td>\n",
              "      <td>0.0</td>\n",
              "    </tr>\n",
              "  </tbody>\n",
              "</table>\n",
              "<p>1000 rows × 1000 columns</p>\n",
              "</div>"
            ],
            "text/plain": [
              "business_id             _ab50qdWOk0DdB6XOrBitw  ac1AeYqs8Z4_e2X5M3if2A  \\\n",
              "user_id                                                                  \n",
              "_BcWyKQL16ndpBdggh2kNA                     0.0                     0.0   \n",
              "Xw7ZjaGfr0WNVt6s_5KZfA                     0.0                     0.0   \n",
              "0Igx-a1wAstiBDerGxXk2A                     0.0                     0.0   \n",
              "-G7Zkl1wIWBBmD0KRy_sCw                     0.0                     0.0   \n",
              "ET8n-r7glWYqZhuR6GcdNw                     0.0                     0.0   \n",
              "...                                        ...                     ...   \n",
              "Glq_5Fn45I4HkNqRhfuDkw                     0.0                     0.0   \n",
              "4aCF363Weu2RNAtl3mJ2eg                     0.0                     0.0   \n",
              "x7UU1bdc2INFrZFwp6yOPw                     0.0                     0.0   \n",
              "V9n2Qyr-dvNg00BwMWqquQ                     0.0                     0.0   \n",
              "cZohBzgCY3B4Fbd25GHHLQ                     0.0                     0.0   \n",
              "\n",
              "business_id             GXFMD0Z4jEVZBCsbPf4CTQ  ytynqOUb3hjKeJfRj5Tshw  \\\n",
              "user_id                                                                  \n",
              "_BcWyKQL16ndpBdggh2kNA                     0.0                     5.0   \n",
              "Xw7ZjaGfr0WNVt6s_5KZfA                     0.0                     0.0   \n",
              "0Igx-a1wAstiBDerGxXk2A                     0.0                     0.0   \n",
              "-G7Zkl1wIWBBmD0KRy_sCw                     0.0                     0.0   \n",
              "ET8n-r7glWYqZhuR6GcdNw                     0.0                     0.0   \n",
              "...                                        ...                     ...   \n",
              "Glq_5Fn45I4HkNqRhfuDkw                     0.0                     0.0   \n",
              "4aCF363Weu2RNAtl3mJ2eg                     0.0                     0.0   \n",
              "x7UU1bdc2INFrZFwp6yOPw                     0.0                     0.0   \n",
              "V9n2Qyr-dvNg00BwMWqquQ                     0.0                     5.0   \n",
              "cZohBzgCY3B4Fbd25GHHLQ                     5.0                     0.0   \n",
              "\n",
              "business_id             oBNrLz4EDhiscSlbOl8uAw  iSRTaT9WngzB8JJ2YKJUig  \\\n",
              "user_id                                                                  \n",
              "_BcWyKQL16ndpBdggh2kNA                     0.0                     0.0   \n",
              "Xw7ZjaGfr0WNVt6s_5KZfA                     0.0                     0.0   \n",
              "0Igx-a1wAstiBDerGxXk2A                     0.0                     0.0   \n",
              "-G7Zkl1wIWBBmD0KRy_sCw                     0.0                     0.0   \n",
              "ET8n-r7glWYqZhuR6GcdNw                     0.0                     0.0   \n",
              "...                                        ...                     ...   \n",
              "Glq_5Fn45I4HkNqRhfuDkw                     0.0                     0.0   \n",
              "4aCF363Weu2RNAtl3mJ2eg                     0.0                     0.0   \n",
              "x7UU1bdc2INFrZFwp6yOPw                     0.0                     0.0   \n",
              "V9n2Qyr-dvNg00BwMWqquQ                     0.0                     0.0   \n",
              "cZohBzgCY3B4Fbd25GHHLQ                     0.0                     0.0   \n",
              "\n",
              "business_id             VQcCL9PiNL_wkGf-uF3fjg  _C7QiQQc47AOEv4PE3Kong  \\\n",
              "user_id                                                                  \n",
              "_BcWyKQL16ndpBdggh2kNA                     0.0                     5.0   \n",
              "Xw7ZjaGfr0WNVt6s_5KZfA                     4.0                     5.0   \n",
              "0Igx-a1wAstiBDerGxXk2A                     0.0                     4.0   \n",
              "-G7Zkl1wIWBBmD0KRy_sCw                     0.0                     0.0   \n",
              "ET8n-r7glWYqZhuR6GcdNw                     0.0                     0.0   \n",
              "...                                        ...                     ...   \n",
              "Glq_5Fn45I4HkNqRhfuDkw                     0.0                     0.0   \n",
              "4aCF363Weu2RNAtl3mJ2eg                     0.0                     5.0   \n",
              "x7UU1bdc2INFrZFwp6yOPw                     0.0                     0.0   \n",
              "V9n2Qyr-dvNg00BwMWqquQ                     0.0                     0.0   \n",
              "cZohBzgCY3B4Fbd25GHHLQ                     0.0                     0.0   \n",
              "\n",
              "business_id             GBTPC53ZrG1ZBY3DT8Mbcw  6a4gLLFSgr-Q6CZXDLzBGQ  ...  \\\n",
              "user_id                                                                 ...   \n",
              "_BcWyKQL16ndpBdggh2kNA                     0.0                     0.0  ...   \n",
              "Xw7ZjaGfr0WNVt6s_5KZfA                     0.0                     4.0  ...   \n",
              "0Igx-a1wAstiBDerGxXk2A                     4.0                     0.0  ...   \n",
              "-G7Zkl1wIWBBmD0KRy_sCw                     0.0                     0.0  ...   \n",
              "ET8n-r7glWYqZhuR6GcdNw                     0.0                     0.0  ...   \n",
              "...                                        ...                     ...  ...   \n",
              "Glq_5Fn45I4HkNqRhfuDkw                     0.0                     5.0  ...   \n",
              "4aCF363Weu2RNAtl3mJ2eg                     3.0                     0.0  ...   \n",
              "x7UU1bdc2INFrZFwp6yOPw                     0.0                     0.0  ...   \n",
              "V9n2Qyr-dvNg00BwMWqquQ                     0.0                     0.0  ...   \n",
              "cZohBzgCY3B4Fbd25GHHLQ                     0.0                     0.0  ...   \n",
              "\n",
              "business_id             zSqTndm5Alq9dW1PyzbdTA  sXaiyPC1fT6ESl-6t7eSXg  \\\n",
              "user_id                                                                  \n",
              "_BcWyKQL16ndpBdggh2kNA                     0.0                     0.0   \n",
              "Xw7ZjaGfr0WNVt6s_5KZfA                     0.0                     0.0   \n",
              "0Igx-a1wAstiBDerGxXk2A                     4.0                     0.0   \n",
              "-G7Zkl1wIWBBmD0KRy_sCw                     0.0                     0.0   \n",
              "ET8n-r7glWYqZhuR6GcdNw                     0.0                     0.0   \n",
              "...                                        ...                     ...   \n",
              "Glq_5Fn45I4HkNqRhfuDkw                     0.0                     5.0   \n",
              "4aCF363Weu2RNAtl3mJ2eg                     0.0                     0.0   \n",
              "x7UU1bdc2INFrZFwp6yOPw                     0.0                     0.0   \n",
              "V9n2Qyr-dvNg00BwMWqquQ                     0.0                     0.0   \n",
              "cZohBzgCY3B4Fbd25GHHLQ                     0.0                     0.0   \n",
              "\n",
              "business_id             8ObCdQQ3mHwDsSsk75Z2lA  Hr6aM0s-woIJaW6DJSbvNQ  \\\n",
              "user_id                                                                  \n",
              "_BcWyKQL16ndpBdggh2kNA                     0.0                     0.0   \n",
              "Xw7ZjaGfr0WNVt6s_5KZfA                     0.0                     0.0   \n",
              "0Igx-a1wAstiBDerGxXk2A                     0.0                     0.0   \n",
              "-G7Zkl1wIWBBmD0KRy_sCw                     0.0                     0.0   \n",
              "ET8n-r7glWYqZhuR6GcdNw                     0.0                     0.0   \n",
              "...                                        ...                     ...   \n",
              "Glq_5Fn45I4HkNqRhfuDkw                     0.0                     0.0   \n",
              "4aCF363Weu2RNAtl3mJ2eg                     0.0                     0.0   \n",
              "x7UU1bdc2INFrZFwp6yOPw                     0.0                     0.0   \n",
              "V9n2Qyr-dvNg00BwMWqquQ                     0.0                     0.0   \n",
              "cZohBzgCY3B4Fbd25GHHLQ                     0.0                     0.0   \n",
              "\n",
              "business_id             lrowppSl2sk3hU4tSUaS6Q  IG2KelKEHCwybPl98frdgQ  \\\n",
              "user_id                                                                  \n",
              "_BcWyKQL16ndpBdggh2kNA                     0.0                     0.0   \n",
              "Xw7ZjaGfr0WNVt6s_5KZfA                     0.0                     0.0   \n",
              "0Igx-a1wAstiBDerGxXk2A                     0.0                     0.0   \n",
              "-G7Zkl1wIWBBmD0KRy_sCw                     0.0                     0.0   \n",
              "ET8n-r7glWYqZhuR6GcdNw                     0.0                     0.0   \n",
              "...                                        ...                     ...   \n",
              "Glq_5Fn45I4HkNqRhfuDkw                     0.0                     0.0   \n",
              "4aCF363Weu2RNAtl3mJ2eg                     0.0                     0.0   \n",
              "x7UU1bdc2INFrZFwp6yOPw                     0.0                     0.0   \n",
              "V9n2Qyr-dvNg00BwMWqquQ                     0.0                     0.0   \n",
              "cZohBzgCY3B4Fbd25GHHLQ                     0.0                     0.0   \n",
              "\n",
              "business_id             oaboaRBUgGjbo2kfUIKDLQ  XCY5mYQv-6Y-uOZEOgOhiQ  \\\n",
              "user_id                                                                  \n",
              "_BcWyKQL16ndpBdggh2kNA                     0.0                     0.0   \n",
              "Xw7ZjaGfr0WNVt6s_5KZfA                     0.0                     0.0   \n",
              "0Igx-a1wAstiBDerGxXk2A                     0.0                     0.0   \n",
              "-G7Zkl1wIWBBmD0KRy_sCw                     0.0                     0.0   \n",
              "ET8n-r7glWYqZhuR6GcdNw                     0.0                     0.0   \n",
              "...                                        ...                     ...   \n",
              "Glq_5Fn45I4HkNqRhfuDkw                     0.0                     0.0   \n",
              "4aCF363Weu2RNAtl3mJ2eg                     0.0                     0.0   \n",
              "x7UU1bdc2INFrZFwp6yOPw                     0.0                     0.0   \n",
              "V9n2Qyr-dvNg00BwMWqquQ                     0.0                     0.0   \n",
              "cZohBzgCY3B4Fbd25GHHLQ                     0.0                     0.0   \n",
              "\n",
              "business_id             05UGAUzE88mcPxQ7WnCxQA  tc6jKQiRjFO2M7BylwHVrg  \n",
              "user_id                                                                 \n",
              "_BcWyKQL16ndpBdggh2kNA                     0.0                     0.0  \n",
              "Xw7ZjaGfr0WNVt6s_5KZfA                     0.0                     0.0  \n",
              "0Igx-a1wAstiBDerGxXk2A                     0.0                     0.0  \n",
              "-G7Zkl1wIWBBmD0KRy_sCw                     0.0                     0.0  \n",
              "ET8n-r7glWYqZhuR6GcdNw                     0.0                     0.0  \n",
              "...                                        ...                     ...  \n",
              "Glq_5Fn45I4HkNqRhfuDkw                     0.0                     0.0  \n",
              "4aCF363Weu2RNAtl3mJ2eg                     0.0                     0.0  \n",
              "x7UU1bdc2INFrZFwp6yOPw                     0.0                     0.0  \n",
              "V9n2Qyr-dvNg00BwMWqquQ                     0.0                     0.0  \n",
              "cZohBzgCY3B4Fbd25GHHLQ                     0.0                     0.0  \n",
              "\n",
              "[1000 rows x 1000 columns]"
            ]
          },
          "execution_count": 261,
          "metadata": {},
          "output_type": "execute_result"
        }
      ],
      "source": [
        "## Creating User Item Matrix \n",
        "# For our recommendation system \n",
        "\n",
        "stars_df"
      ]
    },
    {
      "cell_type": "code",
      "execution_count": null,
      "id": "f4bdb1cd",
      "metadata": {
        "id": "f4bdb1cd",
        "outputId": "68216b5a-ec0d-4bae-8d4f-e10beb0f0378"
      },
      "outputs": [
        {
          "name": "stdout",
          "output_type": "stream",
          "text": [
            "3.13%\n"
          ]
        }
      ],
      "source": [
        "## Checking for sparcity in the matrix\n",
        "\n",
        "sparsity = float(len(np.array(stars_df).nonzero()[0]))\n",
        "sparsity /= (stars_df.shape[0] * stars_df.shape[1])\n",
        "sparsity *= 100\n",
        "print('{:.2f}%'.format(sparsity))"
      ]
    },
    {
      "cell_type": "code",
      "execution_count": null,
      "id": "a6bc2dfb",
      "metadata": {
        "id": "a6bc2dfb"
      },
      "outputs": [],
      "source": [
        "## creating a fucntion to select the 30 testing ratings  and renaining training ratings for each user\n",
        "\n",
        "MIN_USER_RATINGS = 70\n",
        "DELETE_RATING_COUNT = 30\n",
        "\n",
        "def train_test_split(ratings):\n",
        "\n",
        "    validation = np.zeros(ratings.shape)\n",
        "    train = ratings.copy()\n",
        "\n",
        "    for user in np.arange(ratings.shape[0]):\n",
        "        if len(ratings[user,:].nonzero()[0]) >= MIN_USER_RATINGS:\n",
        "            val_ratings = np.random.choice(\n",
        "              ratings[user, :].nonzero()[0],\n",
        "              size=DELETE_RATING_COUNT,\n",
        "              replace=False\n",
        "            )\n",
        "            train[user, val_ratings] = 0\n",
        "            validation[user, val_ratings] = ratings[user, val_ratings]\n",
        "    return train, validation"
      ]
    },
    {
      "cell_type": "code",
      "execution_count": null,
      "id": "637a26fd",
      "metadata": {
        "id": "637a26fd"
      },
      "outputs": [],
      "source": [
        "## Splitting Data using the previously created function into train and validation split\n",
        "train, val = train_test_split(np.array(stars_df))"
      ]
    },
    {
      "cell_type": "code",
      "execution_count": null,
      "id": "b5b113fc",
      "metadata": {
        "id": "b5b113fc"
      },
      "outputs": [],
      "source": [
        "### Function for Root Mean Square Error Calculation\n",
        "\n",
        "def rmse(prediction, ground_truth):\n",
        "    prediction = prediction[ground_truth.nonzero()].flatten()\n",
        "    ground_truth = ground_truth[ground_truth.nonzero()].flatten()\n",
        "    return sqrt(mean_squared_error(prediction, ground_truth))"
      ]
    },
    {
      "cell_type": "markdown",
      "source": [
        "Creating Recommendation System"
      ],
      "metadata": {
        "id": "XJnEZGSZWlra"
      },
      "id": "XJnEZGSZWlra"
    },
    {
      "cell_type": "markdown",
      "source": [],
      "metadata": {
        "id": "opBbWbtOzCuB"
      },
      "id": "opBbWbtOzCuB"
    },
    {
      "cell_type": "markdown",
      "source": [
        "## Using this loss function to calculate latent vectors for our recommendation system. "
      ],
      "metadata": {
        "id": "x7jKAO4UzEdq"
      },
      "id": "x7jKAO4UzEdq"
    },
    {
      "cell_type": "markdown",
      "source": [
        "![Capture1.PNG](data:image/png;base64,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)"
      ],
      "metadata": {
        "id": "CPySkpGUy9KA"
      },
      "id": "CPySkpGUy9KA"
    },
    {
      "cell_type": "code",
      "execution_count": null,
      "id": "a9f7cbdc",
      "metadata": {
        "id": "a9f7cbdc"
      },
      "outputs": [],
      "source": [
        "### Recommender system Class\n",
        "\n",
        "class Recommender:\n",
        "  #constructor\n",
        "  def __init__(self, n_epochs=50, n_latent_features=3, lmbda=0.1, learning_rate=0.01):\n",
        "    self.n_epochs = n_epochs\n",
        "    self.n_latent_features = n_latent_features\n",
        "    self.lmbda = lmbda\n",
        "    self.learning_rate = learning_rate\n",
        "  \n",
        "  #calculating predictions\n",
        "\n",
        "  def predictions(self, P, Q):\n",
        "    return np.dot(P.T, Q)\n",
        "  \n",
        "  # Training the model \n",
        "  def fit(self, X_train, X_val):\n",
        "    m, n = X_train.shape\n",
        "\n",
        "    self.P = 3 * np.random.rand(self.n_latent_features, m)\n",
        "    self.Q = 3 * np.random.rand(self.n_latent_features, n)\n",
        "    \n",
        "    self.train_error = []\n",
        "    self.val_error = []\n",
        "\n",
        "    users, items = X_train.nonzero()\n",
        "    \n",
        "    for epoch in range(self.n_epochs):\n",
        "        for u, i in zip(users, items):\n",
        "            error = X_train[u, i] - self.predictions(self.P[:,u], self.Q[:,i])\n",
        "            self.P[:, u] += self.learning_rate * (error * self.Q[:, i] - self.lmbda * self.P[:, u])\n",
        "            self.Q[:, i] += self.learning_rate * (error * self.P[:, u] - self.lmbda * self.Q[:, i])\n",
        "\n",
        "        train_rmse = rmse(self.predictions(self.P, self.Q), X_train)\n",
        "        val_rmse = rmse(self.predictions(self.P, self.Q), X_val)\n",
        "        self.train_error.append(train_rmse)\n",
        "        self.val_error.append(val_rmse)\n",
        "        print(f\"Epoch - {epoch+1} --------------> Train RMSE - {train_rmse} -----------------> Validation RMSE - {val_rmse}\")\n",
        "        \n",
        "    return self\n",
        "  # predicting using the trained model\n",
        "  def predict(self, X_train, user_index , wise = 'user'):\n",
        "    y_hat = self.predictions(self.P, self.Q)\n",
        "    predictions_index = np.where(X_train[user_index, :] == 0)[0]\n",
        "    if wise == 'user':\n",
        "        return y_hat[user_index, predictions_index].flatten()\n",
        "    return y_hat[user_index].flatten()"
      ]
    },
    {
      "cell_type": "code",
      "execution_count": null,
      "id": "9abe711b",
      "metadata": {
        "id": "9abe711b",
        "outputId": "1a5939a5-f9b8-4c43-d0b6-031430e003d4"
      },
      "outputs": [
        {
          "name": "stdout",
          "output_type": "stream",
          "text": [
            "Epoch - 1 --------------> Train RMSE - 1.60175346622024 -----------------> Validation RMSE - 1.8097290460072684\n",
            "Epoch - 2 --------------> Train RMSE - 1.0551791921841078 -----------------> Validation RMSE - 1.0087503165597493\n",
            "Epoch - 3 --------------> Train RMSE - 0.9272112675303142 -----------------> Validation RMSE - 0.8822349921271432\n",
            "Epoch - 4 --------------> Train RMSE - 0.8776331525279404 -----------------> Validation RMSE - 0.8443649883827338\n",
            "Epoch - 5 --------------> Train RMSE - 0.8516627310885281 -----------------> Validation RMSE - 0.8267439446464748\n",
            "Epoch - 6 --------------> Train RMSE - 0.8358787874797798 -----------------> Validation RMSE - 0.8168071195539696\n",
            "Epoch - 7 --------------> Train RMSE - 0.8253918442719089 -----------------> Validation RMSE - 0.8106226071244832\n",
            "Epoch - 8 --------------> Train RMSE - 0.817983238002545 -----------------> Validation RMSE - 0.8065424204380334\n",
            "Epoch - 9 --------------> Train RMSE - 0.8124998954700731 -----------------> Validation RMSE - 0.8037432509008703\n",
            "Epoch - 10 --------------> Train RMSE - 0.8082841595866638 -----------------> Validation RMSE - 0.8017673634473091\n",
            "Epoch - 11 --------------> Train RMSE - 0.8049347656666548 -----------------> Validation RMSE - 0.800341767652895\n",
            "Epoch - 12 --------------> Train RMSE - 0.8021942024601886 -----------------> Validation RMSE - 0.7992952748608385\n",
            "Epoch - 13 --------------> Train RMSE - 0.7998906933639975 -----------------> Validation RMSE - 0.7985163654495151\n",
            "Epoch - 14 --------------> Train RMSE - 0.7979061352256241 -----------------> Validation RMSE - 0.7979301711464241\n",
            "Epoch - 15 --------------> Train RMSE - 0.7961573525559906 -----------------> Validation RMSE - 0.7974851839230054\n",
            "Epoch - 16 --------------> Train RMSE - 0.7945846249582142 -----------------> Validation RMSE - 0.7971452362176684\n",
            "Epoch - 17 --------------> Train RMSE - 0.7931443992170486 -----------------> Validation RMSE - 0.7968844854892988\n",
            "Epoch - 18 --------------> Train RMSE - 0.7918045148613639 -----------------> Validation RMSE - 0.7966841833440345\n",
            "Epoch - 19 --------------> Train RMSE - 0.7905409943090188 -----------------> Validation RMSE - 0.7965305419406975\n",
            "Epoch - 20 --------------> Train RMSE - 0.7893358364299032 -----------------> Validation RMSE - 0.7964132950631206\n",
            "Epoch - 21 --------------> Train RMSE - 0.7881754700367593 -----------------> Validation RMSE - 0.7963247100836794\n",
            "Epoch - 22 --------------> Train RMSE - 0.7870496508220894 -----------------> Validation RMSE - 0.7962588989635054\n",
            "Epoch - 23 --------------> Train RMSE - 0.7859506618659309 -----------------> Validation RMSE - 0.7962113313368594\n",
            "Epoch - 24 --------------> Train RMSE - 0.784872725387263 -----------------> Validation RMSE - 0.7961784864289896\n",
            "Epoch - 25 --------------> Train RMSE - 0.7838115636669002 -----------------> Validation RMSE - 0.7961576017451869\n",
            "Epoch - 26 --------------> Train RMSE - 0.782764066744169 -----------------> Validation RMSE - 0.7961464900725665\n",
            "Epoch - 27 --------------> Train RMSE - 0.7817280375299066 -----------------> Validation RMSE - 0.7961434052346282\n",
            "Epoch - 28 --------------> Train RMSE - 0.7807019937669132 -----------------> Validation RMSE - 0.7961469429578061\n",
            "Epoch - 29 --------------> Train RMSE - 0.779685012278489 -----------------> Validation RMSE - 0.7961559672077642\n",
            "Epoch - 30 --------------> Train RMSE - 0.7786766051056517 -----------------> Validation RMSE - 0.7961695550940633\n",
            "Epoch - 31 --------------> Train RMSE - 0.7776766200423879 -----------------> Validation RMSE - 0.7961869553477425\n",
            "Epoch - 32 --------------> Train RMSE - 0.7766851601280615 -----------------> Validation RMSE - 0.7962075567211756\n",
            "Epoch - 33 --------------> Train RMSE - 0.7757025181085708 -----------------> Validation RMSE - 0.7962308636230502\n",
            "Epoch - 34 --------------> Train RMSE - 0.7747291229106459 -----------------> Validation RMSE - 0.7962564770027171\n",
            "Epoch - 35 --------------> Train RMSE - 0.7737654959093698 -----------------> Validation RMSE - 0.7962840790171467\n",
            "Epoch - 36 --------------> Train RMSE - 0.7728122152934712 -----------------> Validation RMSE - 0.7963134204037579\n",
            "Epoch - 37 --------------> Train RMSE - 0.7718698872071265 -----------------> Validation RMSE - 0.7963443097793875\n",
            "Epoch - 38 --------------> Train RMSE - 0.7709391226146501 -----------------> Validation RMSE - 0.7963766043138104\n",
            "Epoch - 39 --------------> Train RMSE - 0.7700205190270176 -----------------> Validation RMSE - 0.7964102014018305\n",
            "Epoch - 40 --------------> Train RMSE - 0.7691146463694146 -----------------> Validation RMSE - 0.7964450310922215\n",
            "Epoch - 41 --------------> Train RMSE - 0.7682220363732324 -----------------> Validation RMSE - 0.7964810491325628\n",
            "Epoch - 42 --------------> Train RMSE - 0.7673431749557308 -----------------> Validation RMSE - 0.796518230562139\n",
            "Epoch - 43 --------------> Train RMSE - 0.7664784971140992 -----------------> Validation RMSE - 0.7965565638351907\n",
            "Epoch - 44 --------------> Train RMSE - 0.7656283839134159 -----------------> Validation RMSE - 0.7965960454878894\n",
            "Epoch - 45 --------------> Train RMSE - 0.764793161193782 -----------------> Validation RMSE - 0.7966366753780699\n",
            "Epoch - 46 --------------> Train RMSE - 0.7639730996631008 -----------------> Validation RMSE - 0.7966784525303364\n",
            "Epoch - 47 --------------> Train RMSE - 0.7631684160800586 -----------------> Validation RMSE - 0.7967213716137975\n",
            "Epoch - 48 --------------> Train RMSE - 0.7623792752677433 -----------------> Validation RMSE - 0.7967654200682631\n",
            "Epoch - 49 --------------> Train RMSE - 0.7616057927323853 -----------------> Validation RMSE - 0.7968105758797993\n",
            "Epoch - 50 --------------> Train RMSE - 0.7608480376941167 -----------------> Validation RMSE - 0.7968568059902724\n"
          ]
        }
      ],
      "source": [
        "## Model Training \n",
        "recommender = Recommender().fit(train, val)"
      ]
    },
    {
      "cell_type": "code",
      "execution_count": null,
      "id": "5a3b7108",
      "metadata": {
        "id": "5a3b7108",
        "outputId": "9121ffb0-d810-442a-f485-80470ea6cc4d"
      },
      "outputs": [
        {
          "data": {
            "image/png": "[encoded data removed]",
            "text/plain": [
              "<Figure size 432x288 with 1 Axes>"
            ]
          },
          "metadata": {
            "needs_background": "light"
          },
          "output_type": "display_data"
        }
      ],
      "source": [
        "## Plotting Training and Testing Accuracy\n",
        "\n",
        "plt.plot(range(recommender.n_epochs), recommender.train_error, marker='o', label='Training Data');\n",
        "plt.plot(range(recommender.n_epochs), recommender.val_error, marker='v', label='Validation Data');\n",
        "plt.xlabel('Number of Epochs');\n",
        "plt.ylabel('RMSE');\n",
        "plt.legend()\n",
        "plt.grid()\n",
        "plt.show()"
      ]
    },
    {
      "cell_type": "code",
      "execution_count": null,
      "id": "7385339d",
      "metadata": {
        "id": "7385339d"
      },
      "outputs": [],
      "source": [
        "## Creating User Based Recommendation System\n",
        "def user_user_recommendation(user_index, predicted_stars_index ,predicted_stars, n=10):\n",
        "\n",
        "    business_ids = stars_df.iloc[:,predicted_stars_index].columns\n",
        "    # Predicting for the user index \n",
        "    rating_predictions = recommender.predict(train, user_index)\n",
        "    #creating a dataframe for restraunts with stars and sorting the values to get the restaurants with most number of stars \n",
        "    business_stars = pd.DataFrame(data=dict(business_id=business_ids, stars=rating_predictions))\n",
        "    top_n_businesses = business_stars.sort_values(\"stars\", ascending=False).head(n)\n",
        "    business_recommendations = df1[df1.business_id.isin(top_n_businesses.business_id)].reset_index(drop=True)\n",
        "    return business_recommendations.sort_values(\"stars\", ascending=False)[['name','stars']]"
      ]
    },
    {
      "cell_type": "code",
      "execution_count": null,
      "id": "cba5bbcb",
      "metadata": {
        "id": "cba5bbcb"
      },
      "outputs": [],
      "source": [
        "#recommending restraunts for the user with user_id ->\n",
        "user_id = '_BcWyKQL16ndpBdggh2kNA'\n",
        "user_index = stars_df.index.get_loc(user_id)\n",
        "rating_predictions = recommender.predict(train, user_index)\n",
        "predictions_index = np.where(train[user_index, :] == 0)[0]\n",
        "predicted_stars_index = np.where(train[user_index, :] == 0)[0]\n",
        "predicted_stars = train[user_index, predicted_stars_index]"
      ]
    },
    {
      "cell_type": "code",
      "execution_count": null,
      "id": "1e291d77",
      "metadata": {
        "id": "1e291d77",
        "outputId": "788c49bc-e08d-46fb-bf24-36daa5498713"
      },
      "outputs": [
        {
          "data": {
            "text/html": [
              "<div>\n",
              "<style scoped>\n",
              "    .dataframe tbody tr th:only-of-type {\n",
              "        vertical-align: middle;\n",
              "    }\n",
              "\n",
              "    .dataframe tbody tr th {\n",
              "        vertical-align: top;\n",
              "    }\n",
              "\n",
              "    .dataframe thead th {\n",
              "        text-align: right;\n",
              "    }\n",
              "</style>\n",
              "<table border=\"1\" class=\"dataframe\">\n",
              "  <thead>\n",
              "    <tr style=\"text-align: right;\">\n",
              "      <th></th>\n",
              "      <th>name</th>\n",
              "      <th>stars</th>\n",
              "    </tr>\n",
              "  </thead>\n",
              "  <tbody>\n",
              "    <tr>\n",
              "      <th>0</th>\n",
              "      <td>Yah Mon</td>\n",
              "      <td>4.5</td>\n",
              "    </tr>\n",
              "    <tr>\n",
              "      <th>1</th>\n",
              "      <td>Cajun Encounters Tour Company</td>\n",
              "      <td>4.5</td>\n",
              "    </tr>\n",
              "    <tr>\n",
              "      <th>3</th>\n",
              "      <td>Gallier Restaurant &amp; Oyster Bar</td>\n",
              "      <td>4.5</td>\n",
              "    </tr>\n",
              "    <tr>\n",
              "      <th>6</th>\n",
              "      <td>Witches Brew Tours</td>\n",
              "      <td>4.5</td>\n",
              "    </tr>\n",
              "    <tr>\n",
              "      <th>9</th>\n",
              "      <td>Loquita</td>\n",
              "      <td>4.5</td>\n",
              "    </tr>\n",
              "    <tr>\n",
              "      <th>4</th>\n",
              "      <td>Finch &amp; Fork</td>\n",
              "      <td>4.0</td>\n",
              "    </tr>\n",
              "    <tr>\n",
              "      <th>8</th>\n",
              "      <td>Olio Pizzeria</td>\n",
              "      <td>4.0</td>\n",
              "    </tr>\n",
              "    <tr>\n",
              "      <th>7</th>\n",
              "      <td>Fess Parker's DoubleTree Resort</td>\n",
              "      <td>3.0</td>\n",
              "    </tr>\n",
              "    <tr>\n",
              "      <th>5</th>\n",
              "      <td>Mar Monte Hotel - Hyatt</td>\n",
              "      <td>2.5</td>\n",
              "    </tr>\n",
              "    <tr>\n",
              "      <th>2</th>\n",
              "      <td>Goedeker's</td>\n",
              "      <td>1.5</td>\n",
              "    </tr>\n",
              "  </tbody>\n",
              "</table>\n",
              "</div>"
            ],
            "text/plain": [
              "                              name  stars\n",
              "0                          Yah Mon    4.5\n",
              "1    Cajun Encounters Tour Company    4.5\n",
              "3  Gallier Restaurant & Oyster Bar    4.5\n",
              "6               Witches Brew Tours    4.5\n",
              "9                          Loquita    4.5\n",
              "4                     Finch & Fork    4.0\n",
              "8                    Olio Pizzeria    4.0\n",
              "7  Fess Parker's DoubleTree Resort    3.0\n",
              "5          Mar Monte Hotel - Hyatt    2.5\n",
              "2                       Goedeker's    1.5"
            ]
          },
          "execution_count": 397,
          "metadata": {},
          "output_type": "execute_result"
        }
      ],
      "source": [
        "user_user_recommendation(user_index, predicted_stars_index, predicted_stars)"
      ]
    },
    {
      "cell_type": "markdown",
      "source": [
        "These are the 10 best restaurants that have been recommended for the user using user based collaborative filtering"
      ],
      "metadata": {
        "id": "95vEK-cF0ZEH"
      },
      "id": "95vEK-cF0ZEH"
    },
    {
      "cell_type": "code",
      "execution_count": null,
      "id": "842098a0",
      "metadata": {
        "id": "842098a0",
        "outputId": "f515aa8e-e6be-418a-8aac-2b5ac6d4b82c"
      },
      "outputs": [
        {
          "data": {
            "text/plain": [
              "((1000, 1000), (1000, 1000))"
            ]
          },
          "execution_count": 373,
          "metadata": {},
          "output_type": "execute_result"
        }
      ],
      "source": [
        "train.shape , val.shape"
      ]
    },
    {
      "cell_type": "code",
      "execution_count": null,
      "id": "8ef50fe9",
      "metadata": {
        "id": "8ef50fe9"
      },
      "outputs": [],
      "source": [
        "## Creating Item - Item Similarity Matrix\n",
        "dist  = pairwise_distances(stars_df.T , metric = 'cosine')"
      ]
    },
    {
      "cell_type": "code",
      "execution_count": null,
      "id": "cbe51af5",
      "metadata": {
        "id": "cbe51af5"
      },
      "outputs": [],
      "source": [
        "#Creating a item based recommendation system and putting it inside a function\n",
        "def item_item_recommendation(user_index, predicted_stars_index ,predicted_stars, business, n=10):\n",
        "    \n",
        "    business_ids = stars_df.columns\n",
        "    # predicting at the user index\n",
        "    rating_predictions = recommender.predict(train, user_index, wise = 'item')\n",
        "    rating_predictions = rating_predictions.dot(dist) / np.array(np.abs(dist).sum(axis =1))\n",
        "\n",
        "    #extracting the item_id for the corresponding \n",
        "    index = list(df[df['business_id'] == business].index)[0]\n",
        "    \n",
        "    center = rating_predictions[index]\n",
        "    rating_pred = np.abs(rating_predictions[index] - rating_predictions)\n",
        "    \n",
        "    #Creating a datframe for restaurants with stars and sorting the values to get the restaurants with most number of stars \n",
        "\n",
        "    business_stars = pd.DataFrame(data=dict(business_id=business_ids, stars=rating_pred))\n",
        "    \n",
        "    business_stars = business_stars[~business_stars['business_id'].isin(stars_df.iloc[:,predicted_stars_index].columns)]\n",
        "    business_stars = business_stars[business_stars['business_id']!= business]\n",
        "    top_n_businesses = business_stars.sort_values(\"stars\").head(n)\n",
        "    \n",
        "    business_recommendations = df1[df1.business_id.isin(top_n_businesses.business_id)].reset_index(drop=True)\n",
        "    return business_recommendations.sort_values(\"stars\", ascending=False)[['name','stars']]"
      ]
    },
    {
      "cell_type": "code",
      "execution_count": null,
      "id": "de756b3b",
      "metadata": {
        "id": "de756b3b",
        "outputId": "8f377683-da2a-42c3-822b-588503efe099"
      },
      "outputs": [
        {
          "data": {
            "text/html": [
              "<div>\n",
              "<style scoped>\n",
              "    .dataframe tbody tr th:only-of-type {\n",
              "        vertical-align: middle;\n",
              "    }\n",
              "\n",
              "    .dataframe tbody tr th {\n",
              "        vertical-align: top;\n",
              "    }\n",
              "\n",
              "    .dataframe thead th {\n",
              "        text-align: right;\n",
              "    }\n",
              "</style>\n",
              "<table border=\"1\" class=\"dataframe\">\n",
              "  <thead>\n",
              "    <tr style=\"text-align: right;\">\n",
              "      <th></th>\n",
              "      <th>name</th>\n",
              "      <th>stars</th>\n",
              "    </tr>\n",
              "  </thead>\n",
              "  <tbody>\n",
              "    <tr>\n",
              "      <th>1</th>\n",
              "      <td>Zahav</td>\n",
              "      <td>4.5</td>\n",
              "    </tr>\n",
              "    <tr>\n",
              "      <th>2</th>\n",
              "      <td>Mama's Vegetarian</td>\n",
              "      <td>4.5</td>\n",
              "    </tr>\n",
              "    <tr>\n",
              "      <th>4</th>\n",
              "      <td>Morimoto</td>\n",
              "      <td>4.5</td>\n",
              "    </tr>\n",
              "    <tr>\n",
              "      <th>7</th>\n",
              "      <td>Double Knot</td>\n",
              "      <td>4.5</td>\n",
              "    </tr>\n",
              "    <tr>\n",
              "      <th>9</th>\n",
              "      <td>Vedge</td>\n",
              "      <td>4.5</td>\n",
              "    </tr>\n",
              "    <tr>\n",
              "      <th>0</th>\n",
              "      <td>HipCityVeg</td>\n",
              "      <td>4.0</td>\n",
              "    </tr>\n",
              "    <tr>\n",
              "      <th>3</th>\n",
              "      <td>Tinto</td>\n",
              "      <td>4.0</td>\n",
              "    </tr>\n",
              "    <tr>\n",
              "      <th>5</th>\n",
              "      <td>Audrey Claire</td>\n",
              "      <td>4.0</td>\n",
              "    </tr>\n",
              "    <tr>\n",
              "      <th>6</th>\n",
              "      <td>Fork</td>\n",
              "      <td>4.0</td>\n",
              "    </tr>\n",
              "    <tr>\n",
              "      <th>8</th>\n",
              "      <td>Federal Donuts</td>\n",
              "      <td>4.0</td>\n",
              "    </tr>\n",
              "  </tbody>\n",
              "</table>\n",
              "</div>"
            ],
            "text/plain": [
              "                name  stars\n",
              "1              Zahav    4.5\n",
              "2  Mama's Vegetarian    4.5\n",
              "4           Morimoto    4.5\n",
              "7        Double Knot    4.5\n",
              "9              Vedge    4.5\n",
              "0         HipCityVeg    4.0\n",
              "3              Tinto    4.0\n",
              "5      Audrey Claire    4.0\n",
              "6               Fork    4.0\n",
              "8     Federal Donuts    4.0"
            ]
          },
          "execution_count": 408,
          "metadata": {},
          "output_type": "execute_result"
        }
      ],
      "source": [
        "# recommending restraunts for the user with user_id\n",
        "existing_stars_index = np.where(train[user_index, :] == 0)[0]\n",
        "existing_stars = train[user_index, existing_stars_index]\n",
        "\n",
        "# With business id  _ab50qdWOk0DdB6XOrBitw\n",
        "item_item_recommendation(user_index, existing_stars_index, existing_stars , business = '_ab50qdWOk0DdB6XOrBitw')"
      ]
    },
    {
      "cell_type": "markdown",
      "source": [
        "These are the 10 best restaurants that have been recommended for the user using Item based collaborative filtering."
      ],
      "metadata": {
        "id": "OXYbLLuU3LO6"
      },
      "id": "OXYbLLuU3LO6"
    }
  ],
  "metadata": {
    "kernelspec": {
      "display_name": "Python 3",
      "language": "python",
      "name": "python3"
    },
    "language_info": {
      "codemirror_mode": {
        "name": "ipython",
        "version": 3
      },
      "file_extension": ".py",
      "mimetype": "text/x-python",
      "name": "python",
      "nbconvert_exporter": "python",
      "pygments_lexer": "ipython3",
      "version": "3.6.8"
    },
    "colab": {
      "provenance": [],
      "collapsed_sections": []
    }
  },
  "nbformat": 4,
  "nbformat_minor": 5
}